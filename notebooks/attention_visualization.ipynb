{
 "cells": [
  {
   "cell_type": "code",
   "execution_count": 1,
   "id": "7633e56a",
   "metadata": {},
   "outputs": [],
   "source": [
    "import torch\n",
    "import numpy"
   ]
  },
  {
   "cell_type": "code",
   "execution_count": 2,
   "id": "68cf9c63",
   "metadata": {},
   "outputs": [],
   "source": [
    "import sys\n",
    "\n",
    "sys.path.append('../')\n",
    "sys.path.append('../model')"
   ]
  },
  {
   "cell_type": "code",
   "execution_count": 3,
   "id": "41f0524a",
   "metadata": {},
   "outputs": [
    {
     "name": "stderr",
     "output_type": "stream",
     "text": [
      "/storage/praha1/home/nexuso1/.local/lib/python3.10/site-packages/tqdm/auto.py:21: TqdmWarning: IProgress not found. Please update jupyter and ipywidgets. See https://ipywidgets.readthedocs.io/en/stable/user_install.html\n",
      "  from .autonotebook import tqdm as notebook_tqdm\n"
     ]
    },
    {
     "name": "stdout",
     "output_type": "stream",
     "text": [
      "cuda:0\n"
     ]
    }
   ],
   "source": [
    "from classifiers import EncoderClassifier, EncoderClassifierConfig\n",
    "from training import run_training\n",
    "from encoder import create_model, add_arguments\n",
    "from esm_train import get_esm, device, parser\n",
    "from data_loading import prepare_datasets"
   ]
  },
  {
   "cell_type": "code",
   "execution_count": 4,
   "id": "193f27c1",
   "metadata": {},
   "outputs": [],
   "source": [
    "add_arguments(parser)"
   ]
  },
  {
   "cell_type": "code",
   "execution_count": 5,
   "id": "d979499c",
   "metadata": {},
   "outputs": [],
   "source": [
    "chkpt_path = '../model/new_logs/encoder_S_60_focal/fold_0/chkpt.ckpt'\n",
    "checkpoint = torch.load(chkpt_path)"
   ]
  },
  {
   "cell_type": "code",
   "execution_count": 6,
   "id": "d14a126e",
   "metadata": {},
   "outputs": [],
   "source": [
    "args = parser.parse_args(args=[])"
   ]
  },
  {
   "cell_type": "code",
   "execution_count": 7,
   "id": "fdfedd12",
   "metadata": {},
   "outputs": [
    {
     "data": {
      "text/plain": [
       "Namespace(seed=42, batch_size=16, epochs=20, prot_info_path='../data/phosphosite_sequences/phosphosite_df.json', dataset_path='../data/splits_S.json', weight_decay=0.0001, accum=2, hidden_size=128, lr=3e-05, o='encoder_S_60_focal', n='esm', compile=False, lora=False, dropout=0.5, type='35M', pos_weight=0.6, num_workers=15, n_layers=1, checkpoint_path=None, model_path=None, focal=False, residues=\"['S']\", ignore_label=-1, patience=15, debug=False, n_layers_mlp=3, block_size=1, cnn_type='basic', expand_m=4, sr_n=3, sr_kernel_size=3, sr_init_size=256, sr_final_size=256, res_kernel_size=31, sr_type='cnn', encoder_dim=256, ffw_dim=2048, expand=4, logdir='new_logs/encoder_S_60_focal')"
      ]
     },
     "execution_count": 7,
     "metadata": {},
     "output_type": "execute_result"
    }
   ],
   "source": [
    "for k, v in checkpoint['hyper_parameters'].items():\n",
    "    args.__setattr__(k, v)\n",
    "    \n",
    "args"
   ]
  },
  {
   "cell_type": "code",
   "execution_count": 8,
   "id": "a72bc24e",
   "metadata": {},
   "outputs": [],
   "source": [
    "args.batch_size=16"
   ]
  },
  {
   "cell_type": "code",
   "execution_count": 22,
   "id": "7bfdfd7f",
   "metadata": {},
   "outputs": [
    {
     "name": "stderr",
     "output_type": "stream",
     "text": [
      "Some weights of EsmModel were not initialized from the model checkpoint at facebook/esm2_t12_35M_UR50D and are newly initialized: ['esm.pooler.dense.bias', 'esm.pooler.dense.weight']\n",
      "You should probably TRAIN this model on a down-stream task to be able to use it for predictions and inference.\n"
     ]
    },
    {
     "name": "stdout",
     "output_type": "stream",
     "text": [
      "EncoderClassifier(\n",
      "  (base): EsmModel(\n",
      "    (embeddings): EsmEmbeddings(\n",
      "      (word_embeddings): Embedding(33, 480, padding_idx=1)\n",
      "      (dropout): Dropout(p=0.0, inplace=False)\n",
      "      (position_embeddings): Embedding(1026, 480, padding_idx=1)\n",
      "    )\n",
      "    (encoder): EsmEncoder(\n",
      "      (layer): ModuleList(\n",
      "        (0-11): 12 x EsmLayer(\n",
      "          (attention): EsmAttention(\n",
      "            (self): EsmSelfAttention(\n",
      "              (query): Linear(in_features=480, out_features=480, bias=True)\n",
      "              (key): Linear(in_features=480, out_features=480, bias=True)\n",
      "              (value): Linear(in_features=480, out_features=480, bias=True)\n",
      "              (dropout): Dropout(p=0.0, inplace=False)\n",
      "              (rotary_embeddings): RotaryEmbedding()\n",
      "            )\n",
      "            (output): EsmSelfOutput(\n",
      "              (dense): Linear(in_features=480, out_features=480, bias=True)\n",
      "              (dropout): Dropout(p=0.0, inplace=False)\n",
      "            )\n",
      "            (LayerNorm): LayerNorm((480,), eps=1e-05, elementwise_affine=True)\n",
      "          )\n",
      "          (intermediate): EsmIntermediate(\n",
      "            (dense): Linear(in_features=480, out_features=1920, bias=True)\n",
      "          )\n",
      "          (output): EsmOutput(\n",
      "            (dense): Linear(in_features=1920, out_features=480, bias=True)\n",
      "            (dropout): Dropout(p=0.0, inplace=False)\n",
      "          )\n",
      "          (LayerNorm): LayerNorm((480,), eps=1e-05, elementwise_affine=True)\n",
      "        )\n",
      "      )\n",
      "      (emb_layer_norm_after): LayerNorm((480,), eps=1e-05, elementwise_affine=True)\n",
      "    )\n",
      "    (pooler): EsmPooler(\n",
      "      (dense): Linear(in_features=480, out_features=480, bias=True)\n",
      "      (activation): Tanh()\n",
      "    )\n",
      "    (contact_head): EsmContactPredictionHead(\n",
      "      (regression): Linear(in_features=240, out_features=1, bias=True)\n",
      "      (activation): Sigmoid()\n",
      "    )\n",
      "  )\n",
      "  (loss): BCEWithLogitsLoss()\n",
      "  (pos_embed): SinPositionalEncoding()\n",
      "  (encoder): TransformerEncoder(\n",
      "    (layers): ModuleList(\n",
      "      (0): TransformerEncoderLayer(\n",
      "        (self_attn): MultiheadAttention(\n",
      "          (out_proj): NonDynamicallyQuantizableLinear(in_features=256, out_features=256, bias=True)\n",
      "        )\n",
      "        (linear1): Linear(in_features=256, out_features=2048, bias=True)\n",
      "        (dropout): Dropout(p=0.1, inplace=False)\n",
      "        (linear2): Linear(in_features=2048, out_features=256, bias=True)\n",
      "        (norm1): LayerNorm((256,), eps=1e-05, elementwise_affine=True)\n",
      "        (norm2): LayerNorm((256,), eps=1e-05, elementwise_affine=True)\n",
      "        (dropout1): Dropout(p=0.1, inplace=False)\n",
      "        (dropout2): Dropout(p=0.1, inplace=False)\n",
      "      )\n",
      "    )\n",
      "    (norm): LayerNorm((256,), eps=1e-05, elementwise_affine=True)\n",
      "  )\n",
      "  (sr_cnn): Conv1dModel(\n",
      "    (activ): ReLU()\n",
      "    (downs): ModuleList(\n",
      "      (0): Down1D(\n",
      "        (down): ConvNormActiv1D(\n",
      "          (conv): Conv1d(480, 256, kernel_size=(3,), stride=(2,), padding=(1,))\n",
      "          (norm): LayerNorm((256,), eps=1e-05, elementwise_affine=True)\n",
      "          (activ): ReLU()\n",
      "        )\n",
      "        (layers): ModuleList()\n",
      "        (dropout): Dropout1d(p=0, inplace=False)\n",
      "      )\n",
      "      (1-2): 2 x Down1D(\n",
      "        (down): ConvNormActiv1D(\n",
      "          (conv): Conv1d(256, 256, kernel_size=(3,), stride=(2,), padding=(1,))\n",
      "          (norm): LayerNorm((256,), eps=1e-05, elementwise_affine=True)\n",
      "          (activ): ReLU()\n",
      "        )\n",
      "        (layers): ModuleList()\n",
      "        (dropout): Dropout1d(p=0, inplace=False)\n",
      "      )\n",
      "    )\n",
      "  )\n",
      "  (seq_rep): Conv1dModel(\n",
      "    (activ): ReLU()\n",
      "    (downs): ModuleList(\n",
      "      (0): Down1D(\n",
      "        (down): ConvNormActiv1D(\n",
      "          (conv): Conv1d(480, 256, kernel_size=(3,), stride=(2,), padding=(1,))\n",
      "          (norm): LayerNorm((256,), eps=1e-05, elementwise_affine=True)\n",
      "          (activ): ReLU()\n",
      "        )\n",
      "        (layers): ModuleList()\n",
      "        (dropout): Dropout1d(p=0, inplace=False)\n",
      "      )\n",
      "      (1-2): 2 x Down1D(\n",
      "        (down): ConvNormActiv1D(\n",
      "          (conv): Conv1d(256, 256, kernel_size=(3,), stride=(2,), padding=(1,))\n",
      "          (norm): LayerNorm((256,), eps=1e-05, elementwise_affine=True)\n",
      "          (activ): ReLU()\n",
      "        )\n",
      "        (layers): ModuleList()\n",
      "        (dropout): Dropout1d(p=0, inplace=False)\n",
      "      )\n",
      "    )\n",
      "  )\n",
      "  (res_cnn): Conv1dModel(\n",
      "    (downs): ModuleList(\n",
      "      (0): Down1D(\n",
      "        (down): ConvNormActiv1D(\n",
      "          (conv): Conv1d(480, 256, kernel_size=(31,), stride=(1,), padding=(15,))\n",
      "          (norm): LayerNorm((256,), eps=1e-05, elementwise_affine=True)\n",
      "        )\n",
      "        (layers): ModuleList()\n",
      "        (dropout): Dropout1d(p=0, inplace=False)\n",
      "      )\n",
      "    )\n",
      "  )\n",
      "  (classifier_mlp): ResidualMLP(\n",
      "    (layers): ModuleList(\n",
      "      (0): ResidualDense(\n",
      "        (dense): Linear(in_features=256, out_features=128, bias=True)\n",
      "        (activation): ReLU()\n",
      "      )\n",
      "      (1-2): 2 x ResidualDense(\n",
      "        (dense): Linear(in_features=128, out_features=128, bias=True)\n",
      "        (activation): ReLU()\n",
      "      )\n",
      "    )\n",
      "    (activation): ReLU()\n",
      "    (norms): ModuleList(\n",
      "      (0): LayerNorm((256,), eps=1e-05, elementwise_affine=True)\n",
      "      (1-2): 2 x LayerNorm((128,), eps=1e-05, elementwise_affine=True)\n",
      "    )\n",
      "    (dropout): Dropout(p=0.5, inplace=False)\n",
      "  )\n",
      "  (classifier): Sequential(\n",
      "    (0): ResidualMLP(\n",
      "      (layers): ModuleList(\n",
      "        (0): ResidualDense(\n",
      "          (dense): Linear(in_features=256, out_features=128, bias=True)\n",
      "          (activation): ReLU()\n",
      "        )\n",
      "        (1-2): 2 x ResidualDense(\n",
      "          (dense): Linear(in_features=128, out_features=128, bias=True)\n",
      "          (activation): ReLU()\n",
      "        )\n",
      "      )\n",
      "      (activation): ReLU()\n",
      "      (norms): ModuleList(\n",
      "        (0): LayerNorm((256,), eps=1e-05, elementwise_affine=True)\n",
      "        (1-2): 2 x LayerNorm((128,), eps=1e-05, elementwise_affine=True)\n",
      "      )\n",
      "      (dropout): Dropout(p=0.5, inplace=False)\n",
      "    )\n",
      "    (1): Linear(in_features=128, out_features=1, bias=True)\n",
      "  )\n",
      ")\n"
     ]
    }
   ],
   "source": [
    "model, tokenizer = create_model(args)\n"
   ]
  },
  {
   "cell_type": "code",
   "execution_count": 10,
   "id": "a84bdbb7",
   "metadata": {},
   "outputs": [
    {
     "data": {
      "text/plain": [
       "dict_keys(['epoch', 'global_step', 'pytorch-lightning_version', 'state_dict', 'loops', 'callbacks', 'optimizer_states', 'lr_schedulers', 'hparams_name', 'hyper_parameters'])"
      ]
     },
     "execution_count": 10,
     "metadata": {},
     "output_type": "execute_result"
    }
   ],
   "source": [
    "checkpoint.keys()"
   ]
  },
  {
   "cell_type": "code",
   "execution_count": 13,
   "id": "cc3ae8eb",
   "metadata": {},
   "outputs": [],
   "source": [
    "from torch import Tensor\n",
    "from typing import Optional\n",
    "class FixedEncoderLayer(torch.nn.TransformerEncoderLayer):\n",
    "    def __init__(self, *args, **kwargs):\n",
    "        super(FixedEncoderLayer, self).__init__(*args, **kwargs)\n",
    "        self.last_attn_weight = 0\n",
    "        \n",
    "    # self-attention block\n",
    "    def _sa_block(\n",
    "        self,\n",
    "        x: Tensor,\n",
    "        attn_mask: Optional[Tensor],\n",
    "        key_padding_mask: Optional[Tensor],\n",
    "        is_causal: bool = False,\n",
    "    ) -> Tensor:\n",
    "        x, attn_weights = self.self_attn(\n",
    "            x,\n",
    "            x,\n",
    "            x,\n",
    "            attn_mask=attn_mask,\n",
    "            key_padding_mask=key_padding_mask,\n",
    "            need_weights=True,\n",
    "            is_causal=is_causal,\n",
    "        )\n",
    "        print(attn_weights)\n",
    "        self.last_attn_weight = attn_weights\n",
    "        return self.dropout1(x)\n",
    "\n",
    "    def copy_weights_from(self, other_layer):\n",
    "        if not isinstance(other_layer, torch.nn.TransformerEncoderLayer):\n",
    "            raise ValueError(\"Expected an instance of nn.TransformerEncoderLayer\")\n",
    "        \n",
    "        self.self_attn.load_state_dict(other_layer.self_attn.state_dict())\n",
    "        self.linear1.load_state_dict(other_layer.linear1.state_dict())\n",
    "        self.linear2.load_state_dict(other_layer.linear2.state_dict())\n",
    "        self.norm1.load_state_dict(other_layer.norm1.state_dict())\n",
    "        self.norm2.load_state_dict(other_layer.norm2.state_dict())\n",
    "        self.dropout1.load_state_dict(other_layer.dropout1.state_dict())\n",
    "        self.dropout2.load_state_dict(other_layer.dropout2.state_dict())\n",
    "        self.activation = other_layer.activation\n"
   ]
  },
  {
   "cell_type": "code",
   "execution_count": 14,
   "id": "075de9e2",
   "metadata": {},
   "outputs": [
    {
     "name": "stdout",
     "output_type": "stream",
     "text": [
      "TransformerEncoderLayer(\n",
      "  (self_attn): MultiheadAttention(\n",
      "    (out_proj): NonDynamicallyQuantizableLinear(in_features=256, out_features=256, bias=True)\n",
      "  )\n",
      "  (linear1): Linear(in_features=256, out_features=2048, bias=True)\n",
      "  (dropout): Dropout(p=0.1, inplace=False)\n",
      "  (linear2): Linear(in_features=2048, out_features=256, bias=True)\n",
      "  (norm1): LayerNorm((256,), eps=1e-05, elementwise_affine=True)\n",
      "  (norm2): LayerNorm((256,), eps=1e-05, elementwise_affine=True)\n",
      "  (dropout1): Dropout(p=0.1, inplace=False)\n",
      "  (dropout2): Dropout(p=0.1, inplace=False)\n",
      ")\n"
     ]
    }
   ],
   "source": [
    "for i in range(len(model.encoder.layers)):\n",
    "    module = model.encoder.layers[i]\n",
    "    if isinstance(module, torch.nn.TransformerEncoderLayer):\n",
    "        print(module)\n",
    "        enc_dim = args.encoder_dim\n",
    "        ffw_dim = args.ffw_dim\n",
    "        new_instance = FixedEncoderLayer(d_model = enc_dim, dim_feedforward=ffw_dim, nhead=8, batch_first=True)\n",
    "        new_instance.copy_weights_from(module)\n",
    "        model.encoder.layers[i] = new_instance"
   ]
  },
  {
   "cell_type": "code",
   "execution_count": 15,
   "id": "4e0a2868",
   "metadata": {},
   "outputs": [],
   "source": [
    "from training import LightningWrapper\n",
    "from torchmetrics import F1Score, MatthewsCorrCoef, Precision, Recall, AUROC, \\\n",
    "MeanMetric, AveragePrecision, PrecisionRecallCurve, MetricCollection\n",
    "from torch.utils.data import DataLoader\n",
    "from functools import partial\n",
    "from data_loading import prep_batch"
   ]
  },
  {
   "cell_type": "code",
   "execution_count": 16,
   "id": "bf8c38a5",
   "metadata": {},
   "outputs": [
    {
     "data": {
      "text/plain": [
       "EncoderClassifier(\n",
       "  (base): EsmModel(\n",
       "    (embeddings): EsmEmbeddings(\n",
       "      (word_embeddings): Embedding(33, 480, padding_idx=1)\n",
       "      (dropout): Dropout(p=0.0, inplace=False)\n",
       "      (position_embeddings): Embedding(1026, 480, padding_idx=1)\n",
       "    )\n",
       "    (encoder): EsmEncoder(\n",
       "      (layer): ModuleList(\n",
       "        (0-11): 12 x EsmLayer(\n",
       "          (attention): EsmAttention(\n",
       "            (self): EsmSelfAttention(\n",
       "              (query): Linear(in_features=480, out_features=480, bias=True)\n",
       "              (key): Linear(in_features=480, out_features=480, bias=True)\n",
       "              (value): Linear(in_features=480, out_features=480, bias=True)\n",
       "              (dropout): Dropout(p=0.0, inplace=False)\n",
       "              (rotary_embeddings): RotaryEmbedding()\n",
       "            )\n",
       "            (output): EsmSelfOutput(\n",
       "              (dense): Linear(in_features=480, out_features=480, bias=True)\n",
       "              (dropout): Dropout(p=0.0, inplace=False)\n",
       "            )\n",
       "            (LayerNorm): LayerNorm((480,), eps=1e-05, elementwise_affine=True)\n",
       "          )\n",
       "          (intermediate): EsmIntermediate(\n",
       "            (dense): Linear(in_features=480, out_features=1920, bias=True)\n",
       "          )\n",
       "          (output): EsmOutput(\n",
       "            (dense): Linear(in_features=1920, out_features=480, bias=True)\n",
       "            (dropout): Dropout(p=0.0, inplace=False)\n",
       "          )\n",
       "          (LayerNorm): LayerNorm((480,), eps=1e-05, elementwise_affine=True)\n",
       "        )\n",
       "      )\n",
       "      (emb_layer_norm_after): LayerNorm((480,), eps=1e-05, elementwise_affine=True)\n",
       "    )\n",
       "    (pooler): EsmPooler(\n",
       "      (dense): Linear(in_features=480, out_features=480, bias=True)\n",
       "      (activation): Tanh()\n",
       "    )\n",
       "    (contact_head): EsmContactPredictionHead(\n",
       "      (regression): Linear(in_features=240, out_features=1, bias=True)\n",
       "      (activation): Sigmoid()\n",
       "    )\n",
       "  )\n",
       "  (loss): BCEWithLogitsLoss()\n",
       "  (pos_embed): SinPositionalEncoding()\n",
       "  (encoder): TransformerEncoder(\n",
       "    (layers): ModuleList(\n",
       "      (0): FixedEncoderLayer(\n",
       "        (self_attn): MultiheadAttention(\n",
       "          (out_proj): NonDynamicallyQuantizableLinear(in_features=256, out_features=256, bias=True)\n",
       "        )\n",
       "        (linear1): Linear(in_features=256, out_features=2048, bias=True)\n",
       "        (dropout): Dropout(p=0.1, inplace=False)\n",
       "        (linear2): Linear(in_features=2048, out_features=256, bias=True)\n",
       "        (norm1): LayerNorm((256,), eps=1e-05, elementwise_affine=True)\n",
       "        (norm2): LayerNorm((256,), eps=1e-05, elementwise_affine=True)\n",
       "        (dropout1): Dropout(p=0.1, inplace=False)\n",
       "        (dropout2): Dropout(p=0.1, inplace=False)\n",
       "      )\n",
       "    )\n",
       "    (norm): LayerNorm((256,), eps=1e-05, elementwise_affine=True)\n",
       "  )\n",
       "  (sr_cnn): Conv1dModel(\n",
       "    (activ): ReLU()\n",
       "    (downs): ModuleList(\n",
       "      (0): Down1D(\n",
       "        (down): ConvNormActiv1D(\n",
       "          (conv): Conv1d(480, 256, kernel_size=(3,), stride=(2,), padding=(1,))\n",
       "          (norm): LayerNorm((256,), eps=1e-05, elementwise_affine=True)\n",
       "          (activ): ReLU()\n",
       "        )\n",
       "        (layers): ModuleList()\n",
       "        (dropout): Dropout1d(p=0, inplace=False)\n",
       "      )\n",
       "      (1-2): 2 x Down1D(\n",
       "        (down): ConvNormActiv1D(\n",
       "          (conv): Conv1d(256, 256, kernel_size=(3,), stride=(2,), padding=(1,))\n",
       "          (norm): LayerNorm((256,), eps=1e-05, elementwise_affine=True)\n",
       "          (activ): ReLU()\n",
       "        )\n",
       "        (layers): ModuleList()\n",
       "        (dropout): Dropout1d(p=0, inplace=False)\n",
       "      )\n",
       "    )\n",
       "  )\n",
       "  (seq_rep): Conv1dModel(\n",
       "    (activ): ReLU()\n",
       "    (downs): ModuleList(\n",
       "      (0): Down1D(\n",
       "        (down): ConvNormActiv1D(\n",
       "          (conv): Conv1d(480, 256, kernel_size=(3,), stride=(2,), padding=(1,))\n",
       "          (norm): LayerNorm((256,), eps=1e-05, elementwise_affine=True)\n",
       "          (activ): ReLU()\n",
       "        )\n",
       "        (layers): ModuleList()\n",
       "        (dropout): Dropout1d(p=0, inplace=False)\n",
       "      )\n",
       "      (1-2): 2 x Down1D(\n",
       "        (down): ConvNormActiv1D(\n",
       "          (conv): Conv1d(256, 256, kernel_size=(3,), stride=(2,), padding=(1,))\n",
       "          (norm): LayerNorm((256,), eps=1e-05, elementwise_affine=True)\n",
       "          (activ): ReLU()\n",
       "        )\n",
       "        (layers): ModuleList()\n",
       "        (dropout): Dropout1d(p=0, inplace=False)\n",
       "      )\n",
       "    )\n",
       "  )\n",
       "  (res_cnn): Conv1dModel(\n",
       "    (downs): ModuleList(\n",
       "      (0): Down1D(\n",
       "        (down): ConvNormActiv1D(\n",
       "          (conv): Conv1d(480, 256, kernel_size=(31,), stride=(1,), padding=(15,))\n",
       "          (norm): LayerNorm((256,), eps=1e-05, elementwise_affine=True)\n",
       "        )\n",
       "        (layers): ModuleList()\n",
       "        (dropout): Dropout1d(p=0, inplace=False)\n",
       "      )\n",
       "    )\n",
       "  )\n",
       "  (classifier_mlp): ResidualMLP(\n",
       "    (layers): ModuleList(\n",
       "      (0): ResidualDense(\n",
       "        (dense): Linear(in_features=256, out_features=128, bias=True)\n",
       "        (activation): ReLU()\n",
       "      )\n",
       "      (1-2): 2 x ResidualDense(\n",
       "        (dense): Linear(in_features=128, out_features=128, bias=True)\n",
       "        (activation): ReLU()\n",
       "      )\n",
       "    )\n",
       "    (activation): ReLU()\n",
       "    (norms): ModuleList(\n",
       "      (0): LayerNorm((256,), eps=1e-05, elementwise_affine=True)\n",
       "      (1-2): 2 x LayerNorm((128,), eps=1e-05, elementwise_affine=True)\n",
       "    )\n",
       "    (dropout): Dropout(p=0.5, inplace=False)\n",
       "  )\n",
       "  (classifier): Sequential(\n",
       "    (0): ResidualMLP(\n",
       "      (layers): ModuleList(\n",
       "        (0): ResidualDense(\n",
       "          (dense): Linear(in_features=256, out_features=128, bias=True)\n",
       "          (activation): ReLU()\n",
       "        )\n",
       "        (1-2): 2 x ResidualDense(\n",
       "          (dense): Linear(in_features=128, out_features=128, bias=True)\n",
       "          (activation): ReLU()\n",
       "        )\n",
       "      )\n",
       "      (activation): ReLU()\n",
       "      (norms): ModuleList(\n",
       "        (0): LayerNorm((256,), eps=1e-05, elementwise_affine=True)\n",
       "        (1-2): 2 x LayerNorm((128,), eps=1e-05, elementwise_affine=True)\n",
       "      )\n",
       "      (dropout): Dropout(p=0.5, inplace=False)\n",
       "    )\n",
       "    (1): Linear(in_features=128, out_features=1, bias=True)\n",
       "  )\n",
       ")"
      ]
     },
     "execution_count": 16,
     "metadata": {},
     "output_type": "execute_result"
    }
   ],
   "source": [
    "model"
   ]
  },
  {
   "cell_type": "code",
   "execution_count": 17,
   "id": "a178163f",
   "metadata": {},
   "outputs": [],
   "source": [
    "full_dataset = prepare_datasets(args, ignore_label=args.ignore_label)\n",
    "\n",
    "step_metrics = MetricCollection({\n",
    "    'f1' : F1Score(task='binary', ignore_index=args.ignore_label),\n",
    "    'precision' : Precision(task='binary',ignore_index=args.ignore_label),\n",
    "    'recall' : Recall(task='binary', ignore_index=args.ignore_label),\n",
    "})\n",
    "\n",
    "epoch_metrics = MetricCollection({\n",
    "    'f1' : F1Score(task='binary', ignore_index=args.ignore_label),\n",
    "    'precision' : Precision(task='binary',ignore_index=args.ignore_label),\n",
    "    'recall' : Recall(task='binary', ignore_index=args.ignore_label),\n",
    "    'auroc' : AUROC('binary', ignore_index=args.ignore_label),\n",
    "    'auprc' : AveragePrecision('binary', ignore_index=args.ignore_label),\n",
    "    'mcc' : MatthewsCorrCoef('binary', ignore_index=args.ignore_label)\n",
    "})"
   ]
  },
  {
   "cell_type": "code",
   "execution_count": 18,
   "id": "9903a268",
   "metadata": {},
   "outputs": [
    {
     "name": "stdout",
     "output_type": "stream",
     "text": [
      "Train size: 7180\n",
      "Dev size: 1796\n",
      "Test size: 2244\n"
     ]
    }
   ],
   "source": [
    "train_ds, dev_ds, test_ds = full_dataset.get_fold(0)\n",
    "\n",
    "train = DataLoader(train_ds, args.batch_size, shuffle=True,\n",
    "                    collate_fn=partial(prep_batch, tokenizer=tokenizer, ignore_label=args.ignore_label),\n",
    "                    persistent_workers=True if args.num_workers > 0 else False, \n",
    "                    num_workers=args.num_workers )\n",
    "dev = DataLoader(dev_ds, args.batch_size, shuffle=False,\n",
    "                    collate_fn=partial(prep_batch, tokenizer=tokenizer, ignore_label=args.ignore_label),\n",
    "                    persistent_workers=True if args.num_workers > 0 else False,\n",
    "                    num_workers=args.num_workers)\n",
    "\n",
    "test = DataLoader(test_ds, args.batch_size, shuffle=False,\n",
    "                    collate_fn=partial(prep_batch, tokenizer=tokenizer, ignore_label=args.ignore_label),\n",
    "                    persistent_workers=True if args.num_workers > 0 else False,\n",
    "                    num_workers=args.num_workers)"
   ]
  },
  {
   "cell_type": "code",
   "execution_count": 23,
   "id": "83952c27",
   "metadata": {},
   "outputs": [],
   "source": [
    "model = LightningWrapper(args, model, step_metrics=step_metrics, epoch_metrics=epoch_metrics, ds_size=len(train), logdir='.')"
   ]
  },
  {
   "cell_type": "code",
   "execution_count": 24,
   "id": "43829939",
   "metadata": {},
   "outputs": [
    {
     "data": {
      "text/plain": [
       "<All keys matched successfully>"
      ]
     },
     "execution_count": 24,
     "metadata": {},
     "output_type": "execute_result"
    }
   ],
   "source": [
    "model.load_state_dict(checkpoint['state_dict'])"
   ]
  },
  {
   "cell_type": "code",
   "execution_count": 25,
   "id": "0940d688",
   "metadata": {},
   "outputs": [],
   "source": [
    "#handle = model.classifier.encoder.layers[0].self_attn.register_forward_hook(hook)"
   ]
  },
  {
   "cell_type": "code",
   "execution_count": 26,
   "id": "60c3f57e",
   "metadata": {},
   "outputs": [
    {
     "name": "stderr",
     "output_type": "stream",
     "text": [
      "GPU available: True (cuda), used: True\n",
      "TPU available: False, using: 0 TPU cores\n",
      "HPU available: False, using: 0 HPUs\n",
      "LOCAL_RANK: 0 - CUDA_VISIBLE_DEVICES: [GPU-a499a47b-6eca-00c0-ef67-07b64dce9e09]\n"
     ]
    },
    {
     "name": "stdout",
     "output_type": "stream",
     "text": [
      "Testing DataLoader 0: 100%|██████████| 141/141 [00:35<00:00,  3.92it/s]\n"
     ]
    },
    {
     "data": {
      "text/html": [
       "<pre style=\"white-space:pre;overflow-x:auto;line-height:normal;font-family:Menlo,'DejaVu Sans Mono',consolas,'Courier New',monospace\">┏━━━━━━━━━━━━━━━━━━━━━━━━━━━┳━━━━━━━━━━━━━━━━━━━━━━━━━━━┓\n",
       "┃<span style=\"font-weight: bold\">        Test metric        </span>┃<span style=\"font-weight: bold\">       DataLoader 0        </span>┃\n",
       "┡━━━━━━━━━━━━━━━━━━━━━━━━━━━╇━━━━━━━━━━━━━━━━━━━━━━━━━━━┩\n",
       "│<span style=\"color: #008080; text-decoration-color: #008080\">        test_auprc         </span>│<span style=\"color: #800080; text-decoration-color: #800080\">    0.6935030221939087     </span>│\n",
       "│<span style=\"color: #008080; text-decoration-color: #008080\">        test_auroc         </span>│<span style=\"color: #800080; text-decoration-color: #800080\">    0.8387981653213501     </span>│\n",
       "│<span style=\"color: #008080; text-decoration-color: #008080\">          test_f1          </span>│<span style=\"color: #800080; text-decoration-color: #800080\">    0.5957019329071045     </span>│\n",
       "│<span style=\"color: #008080; text-decoration-color: #008080\">         test_loss         </span>│<span style=\"color: #800080; text-decoration-color: #800080\">    0.3552580177783966     </span>│\n",
       "│<span style=\"color: #008080; text-decoration-color: #008080\">      test_loss_mean       </span>│<span style=\"color: #800080; text-decoration-color: #800080\">    0.3552580177783966     </span>│\n",
       "│<span style=\"color: #008080; text-decoration-color: #008080\">         test_mcc          </span>│<span style=\"color: #800080; text-decoration-color: #800080\">    0.5560073256492615     </span>│\n",
       "│<span style=\"color: #008080; text-decoration-color: #008080\">      test_precision       </span>│<span style=\"color: #800080; text-decoration-color: #800080\">    0.7883375883102417     </span>│\n",
       "│<span style=\"color: #008080; text-decoration-color: #008080\">        test_recall        </span>│<span style=\"color: #800080; text-decoration-color: #800080\">    0.4787227511405945     </span>│\n",
       "└───────────────────────────┴───────────────────────────┘\n",
       "</pre>\n"
      ],
      "text/plain": [
       "┏━━━━━━━━━━━━━━━━━━━━━━━━━━━┳━━━━━━━━━━━━━━━━━━━━━━━━━━━┓\n",
       "┃\u001b[1m \u001b[0m\u001b[1m       Test metric       \u001b[0m\u001b[1m \u001b[0m┃\u001b[1m \u001b[0m\u001b[1m      DataLoader 0       \u001b[0m\u001b[1m \u001b[0m┃\n",
       "┡━━━━━━━━━━━━━━━━━━━━━━━━━━━╇━━━━━━━━━━━━━━━━━━━━━━━━━━━┩\n",
       "│\u001b[36m \u001b[0m\u001b[36m       test_auprc        \u001b[0m\u001b[36m \u001b[0m│\u001b[35m \u001b[0m\u001b[35m   0.6935030221939087    \u001b[0m\u001b[35m \u001b[0m│\n",
       "│\u001b[36m \u001b[0m\u001b[36m       test_auroc        \u001b[0m\u001b[36m \u001b[0m│\u001b[35m \u001b[0m\u001b[35m   0.8387981653213501    \u001b[0m\u001b[35m \u001b[0m│\n",
       "│\u001b[36m \u001b[0m\u001b[36m         test_f1         \u001b[0m\u001b[36m \u001b[0m│\u001b[35m \u001b[0m\u001b[35m   0.5957019329071045    \u001b[0m\u001b[35m \u001b[0m│\n",
       "│\u001b[36m \u001b[0m\u001b[36m        test_loss        \u001b[0m\u001b[36m \u001b[0m│\u001b[35m \u001b[0m\u001b[35m   0.3552580177783966    \u001b[0m\u001b[35m \u001b[0m│\n",
       "│\u001b[36m \u001b[0m\u001b[36m     test_loss_mean      \u001b[0m\u001b[36m \u001b[0m│\u001b[35m \u001b[0m\u001b[35m   0.3552580177783966    \u001b[0m\u001b[35m \u001b[0m│\n",
       "│\u001b[36m \u001b[0m\u001b[36m        test_mcc         \u001b[0m\u001b[36m \u001b[0m│\u001b[35m \u001b[0m\u001b[35m   0.5560073256492615    \u001b[0m\u001b[35m \u001b[0m│\n",
       "│\u001b[36m \u001b[0m\u001b[36m     test_precision      \u001b[0m\u001b[36m \u001b[0m│\u001b[35m \u001b[0m\u001b[35m   0.7883375883102417    \u001b[0m\u001b[35m \u001b[0m│\n",
       "│\u001b[36m \u001b[0m\u001b[36m       test_recall       \u001b[0m\u001b[36m \u001b[0m│\u001b[35m \u001b[0m\u001b[35m   0.4787227511405945    \u001b[0m\u001b[35m \u001b[0m│\n",
       "└───────────────────────────┴───────────────────────────┘\n"
      ]
     },
     "metadata": {},
     "output_type": "display_data"
    },
    {
     "data": {
      "text/plain": [
       "[{'test_loss': 0.3552580177783966,\n",
       "  'test_loss_mean': 0.3552580177783966,\n",
       "  'test_f1': 0.5957019329071045,\n",
       "  'test_precision': 0.7883375883102417,\n",
       "  'test_recall': 0.4787227511405945,\n",
       "  'test_auprc': 0.6935030221939087,\n",
       "  'test_auroc': 0.8387981653213501,\n",
       "  'test_mcc': 0.5560073256492615}]"
      ]
     },
     "execution_count": 26,
     "metadata": {},
     "output_type": "execute_result"
    }
   ],
   "source": [
    "#handle.remove()\n",
    "import lightning as L\n",
    "trainer = L.Trainer()\n",
    "model.logdir = '.'\n",
    "trainer.test(model, test)"
   ]
  },
  {
   "cell_type": "code",
   "execution_count": 28,
   "id": "22de542f",
   "metadata": {},
   "outputs": [],
   "source": [
    "model.eval()\n",
    "model.to(torch.device('cuda:0'))\n",
    "test_batch = next(iter(test))"
   ]
  },
  {
   "cell_type": "code",
   "execution_count": 29,
   "id": "0632e8a9",
   "metadata": {},
   "outputs": [
    {
     "data": {
      "text/plain": [
       "{'input_ids': tensor([[ 0, 20, 11,  ...,  1,  1,  1],\n",
       "        [ 0, 20,  6,  ...,  1,  1,  1],\n",
       "        [ 0, 20,  7,  ...,  1,  1,  1],\n",
       "        ...,\n",
       "        [ 0, 20, 13,  ...,  1,  1,  1],\n",
       "        [ 0, 20,  4,  ...,  1,  1,  1],\n",
       "        [ 0, 20,  8,  ...,  1,  1,  1]]), 'attention_mask': tensor([[1, 1, 1,  ..., 0, 0, 0],\n",
       "        [1, 1, 1,  ..., 0, 0, 0],\n",
       "        [1, 1, 1,  ..., 0, 0, 0],\n",
       "        ...,\n",
       "        [1, 1, 1,  ..., 0, 0, 0],\n",
       "        [1, 1, 1,  ..., 0, 0, 0],\n",
       "        [1, 1, 1,  ..., 0, 0, 0]]), 'labels': tensor([[-1., -1., -1.,  ..., -1., -1., -1.],\n",
       "        [-1., -1., -1.,  ..., -1., -1., -1.],\n",
       "        [-1., -1., -1.,  ..., -1., -1., -1.],\n",
       "        ...,\n",
       "        [-1., -1., -1.,  ..., -1., -1., -1.],\n",
       "        [-1., -1., -1.,  ..., -1., -1., -1.],\n",
       "        [-1., -1.,  0.,  ..., -1., -1., -1.]]), 'batch_lens': tensor([117, 138, 363, 215, 676,  74, 619, 597, 959, 185, 408, 729, 278, 258,\n",
       "        358, 892]), 'indices': tensor([ 0,  1,  2,  3,  4,  5,  6,  7,  8,  9, 10, 11, 12, 13, 14, 15],\n",
       "       dtype=torch.int32)}"
      ]
     },
     "execution_count": 29,
     "metadata": {},
     "output_type": "execute_result"
    }
   ],
   "source": [
    "test_batch"
   ]
  },
  {
   "cell_type": "code",
   "execution_count": 31,
   "id": "9e8c9c21",
   "metadata": {},
   "outputs": [
    {
     "data": {
      "text/plain": [
       "(tensor(0.3534, device='cuda:0'),\n",
       " tensor([[[ 1.2892],\n",
       "          [-0.1648],\n",
       "          [12.2891],\n",
       "          ...,\n",
       "          [-0.1968],\n",
       "          [-0.1968],\n",
       "          [-0.1968]],\n",
       " \n",
       "         [[ 9.3806],\n",
       "          [ 5.9131],\n",
       "          [ 5.4615],\n",
       "          ...,\n",
       "          [-0.1968],\n",
       "          [-0.1968],\n",
       "          [-0.1968]],\n",
       " \n",
       "         [[10.0446],\n",
       "          [-5.7500],\n",
       "          [ 3.9518],\n",
       "          ...,\n",
       "          [-0.1968],\n",
       "          [-0.1968],\n",
       "          [-0.1968]],\n",
       " \n",
       "         ...,\n",
       " \n",
       "         [[11.6717],\n",
       "          [ 3.9674],\n",
       "          [ 9.9622],\n",
       "          ...,\n",
       "          [-0.1968],\n",
       "          [-0.1968],\n",
       "          [-0.1968]],\n",
       " \n",
       "         [[-0.3966],\n",
       "          [-4.3590],\n",
       "          [ 2.6864],\n",
       "          ...,\n",
       "          [-0.1968],\n",
       "          [-0.1968],\n",
       "          [-0.1968]],\n",
       " \n",
       "         [[-8.4586],\n",
       "          [-8.8090],\n",
       "          [-8.5777],\n",
       "          ...,\n",
       "          [-0.1968],\n",
       "          [-0.1968],\n",
       "          [-0.1968]]], device='cuda:0'))"
      ]
     },
     "execution_count": 31,
     "metadata": {},
     "output_type": "execute_result"
    }
   ],
   "source": [
    "with torch.no_grad():\n",
    "    out = model.classifier.predict(**test_batch.to(torch.device('cuda:0')))\n",
    "\n",
    "out"
   ]
  },
  {
   "cell_type": "code",
   "execution_count": 25,
   "id": "556af556",
   "metadata": {},
   "outputs": [
    {
     "data": {
      "text/plain": [
       "0"
      ]
     },
     "execution_count": 25,
     "metadata": {},
     "output_type": "execute_result"
    }
   ],
   "source": [
    "weights = model.classifier.encoder.layers[0].last_attn_weight"
   ]
  },
  {
   "cell_type": "code",
   "execution_count": 23,
   "id": "30d79698",
   "metadata": {},
   "outputs": [],
   "source": [
    "import matplotlib.pyplot as plt"
   ]
  },
  {
   "cell_type": "code",
   "execution_count": 26,
   "id": "e380012f",
   "metadata": {},
   "outputs": [
    {
     "name": "stdout",
     "output_type": "stream",
     "text": [
      "Defaulting to user installation because normal site-packages is not writeable\n",
      "Looking in indexes: https://pypi.org/simple, https://pypi.ngc.nvidia.com\n",
      "Requirement already satisfied: seaborn in /auto/vestec1-elixir/home/nexuso1/.local/lib/python3.10/site-packages (0.13.2)\n",
      "Requirement already satisfied: numpy!=1.24.0,>=1.20 in /usr/local/lib/python3.10/dist-packages (from seaborn) (1.24.4)\n",
      "Requirement already satisfied: pandas>=1.2 in /usr/local/lib/python3.10/dist-packages (from seaborn) (1.5.3)\n",
      "Requirement already satisfied: matplotlib!=3.6.1,>=3.4 in /usr/local/lib/python3.10/dist-packages (from seaborn) (3.8.4)\n",
      "Requirement already satisfied: contourpy>=1.0.1 in /usr/local/lib/python3.10/dist-packages (from matplotlib!=3.6.1,>=3.4->seaborn) (1.2.1)\n",
      "Requirement already satisfied: cycler>=0.10 in /usr/local/lib/python3.10/dist-packages (from matplotlib!=3.6.1,>=3.4->seaborn) (0.12.1)\n",
      "Requirement already satisfied: fonttools>=4.22.0 in /usr/local/lib/python3.10/dist-packages (from matplotlib!=3.6.1,>=3.4->seaborn) (4.51.0)\n",
      "Requirement already satisfied: kiwisolver>=1.3.1 in /usr/local/lib/python3.10/dist-packages (from matplotlib!=3.6.1,>=3.4->seaborn) (1.4.5)\n",
      "Requirement already satisfied: packaging>=20.0 in /usr/local/lib/python3.10/dist-packages (from matplotlib!=3.6.1,>=3.4->seaborn) (23.2)\n",
      "Requirement already satisfied: pillow>=8 in /usr/local/lib/python3.10/dist-packages (from matplotlib!=3.6.1,>=3.4->seaborn) (10.2.0)\n",
      "Requirement already satisfied: pyparsing>=2.3.1 in /usr/local/lib/python3.10/dist-packages (from matplotlib!=3.6.1,>=3.4->seaborn) (3.1.2)\n",
      "Requirement already satisfied: python-dateutil>=2.7 in /usr/local/lib/python3.10/dist-packages (from matplotlib!=3.6.1,>=3.4->seaborn) (2.9.0.post0)\n",
      "Requirement already satisfied: pytz>=2020.1 in /usr/local/lib/python3.10/dist-packages (from pandas>=1.2->seaborn) (2024.1)\n",
      "Requirement already satisfied: six>=1.5 in /usr/local/lib/python3.10/dist-packages (from python-dateutil>=2.7->matplotlib!=3.6.1,>=3.4->seaborn) (1.16.0)\n",
      "\n",
      "\u001b[1m[\u001b[0m\u001b[34;49mnotice\u001b[0m\u001b[1;39;49m]\u001b[0m\u001b[39;49m A new release of pip is available: \u001b[0m\u001b[31;49m24.0\u001b[0m\u001b[39;49m -> \u001b[0m\u001b[32;49m24.3.1\u001b[0m\n",
      "\u001b[1m[\u001b[0m\u001b[34;49mnotice\u001b[0m\u001b[1;39;49m]\u001b[0m\u001b[39;49m To update, run: \u001b[0m\u001b[32;49mpython -m pip install --upgrade pip\u001b[0m\n",
      "Note: you may need to restart the kernel to use updated packages.\n"
     ]
    }
   ],
   "source": [
    "%pip install seaborn"
   ]
  },
  {
   "cell_type": "code",
   "execution_count": 24,
   "id": "95f740bc",
   "metadata": {},
   "outputs": [
    {
     "ename": "AttributeError",
     "evalue": "'int' object has no attribute 'cpu'",
     "output_type": "error",
     "traceback": [
      "\u001b[0;31m---------------------------------------------------------------------------\u001b[0m",
      "\u001b[0;31mAttributeError\u001b[0m                            Traceback (most recent call last)",
      "Cell \u001b[0;32mIn[24], line 3\u001b[0m\n\u001b[1;32m      1\u001b[0m \u001b[38;5;28;01mimport\u001b[39;00m \u001b[38;5;21;01mseaborn\u001b[39;00m \u001b[38;5;28;01mas\u001b[39;00m \u001b[38;5;21;01msns\u001b[39;00m\n\u001b[0;32m----> 3\u001b[0m sns\u001b[38;5;241m.\u001b[39mheatmap(\u001b[43mweights\u001b[49m\u001b[38;5;241;43m.\u001b[39;49m\u001b[43mcpu\u001b[49m()\u001b[38;5;241m.\u001b[39mnumpy())\n",
      "\u001b[0;31mAttributeError\u001b[0m: 'int' object has no attribute 'cpu'"
     ]
    }
   ],
   "source": [
    "import seaborn as sns\n",
    "\n",
    "sns.heatmap(weights.cpu().numpy())"
   ]
  },
  {
   "cell_type": "code",
   "execution_count": 35,
   "id": "bf071f94",
   "metadata": {},
   "outputs": [],
   "source": [
    "pos_indices = torch.argwhere(test_batch['labels'] == 1)\n",
    "neg_indices = torch.argwhere(test_batch['labels'] == 0)"
   ]
  },
  {
   "cell_type": "code",
   "execution_count": 36,
   "id": "408ddd50",
   "metadata": {},
   "outputs": [
    {
     "data": {
      "text/plain": [
       "tensor([[  0, 237],\n",
       "        [  1,  42],\n",
       "        [  1,  44],\n",
       "        [  1,  45],\n",
       "        [  1,  55],\n",
       "        [  1, 134],\n",
       "        [  1, 201],\n",
       "        [  1, 283],\n",
       "        [  1, 396],\n",
       "        [  1, 508],\n",
       "        [  1, 519],\n",
       "        [  1, 522],\n",
       "        [  1, 533],\n",
       "        [  1, 540],\n",
       "        [  1, 541],\n",
       "        [  1, 554],\n",
       "        [  2,  43],\n",
       "        [  2,  46],\n",
       "        [  2,  52],\n",
       "        [  2,  58],\n",
       "        [  2,  68],\n",
       "        [  2,  71],\n",
       "        [  2, 102],\n",
       "        [  2, 202],\n",
       "        [  2, 225],\n",
       "        [  2, 265],\n",
       "        [  2, 270],\n",
       "        [  2, 280],\n",
       "        [  2, 316],\n",
       "        [  2, 351],\n",
       "        [  2, 355],\n",
       "        [  2, 357],\n",
       "        [  2, 358],\n",
       "        [  2, 396],\n",
       "        [  2, 403],\n",
       "        [  2, 406],\n",
       "        [  2, 413],\n",
       "        [  2, 416],\n",
       "        [  2, 417],\n",
       "        [  2, 664],\n",
       "        [  2, 767],\n",
       "        [  2, 777],\n",
       "        [  2, 812],\n",
       "        [  2, 862],\n",
       "        [  2, 863],\n",
       "        [  3,  24],\n",
       "        [  3,  88],\n",
       "        [  3,  89],\n",
       "        [  3, 100],\n",
       "        [  3, 123],\n",
       "        [  3, 128],\n",
       "        [  4, 410],\n",
       "        [  4, 472],\n",
       "        [  4, 520],\n",
       "        [  4, 521],\n",
       "        [  4, 531],\n",
       "        [  4, 673],\n",
       "        [  5, 203],\n",
       "        [  5, 273],\n",
       "        [  6,  98],\n",
       "        [  6, 103],\n",
       "        [  6, 161],\n",
       "        [  7, 357],\n",
       "        [  7, 358],\n",
       "        [  7, 360],\n",
       "        [  7, 367],\n",
       "        [  7, 371],\n",
       "        [  7, 373],\n",
       "        [  7, 403],\n",
       "        [  7, 418],\n",
       "        [  7, 420],\n",
       "        [  7, 421],\n",
       "        [  7, 422],\n",
       "        [  7, 460],\n",
       "        [  7, 471],\n",
       "        [  7, 511],\n",
       "        [  7, 525],\n",
       "        [  7, 544],\n",
       "        [  7, 711],\n",
       "        [  7, 723],\n",
       "        [  7, 824],\n",
       "        [  7, 840],\n",
       "        [  7, 849],\n",
       "        [  7, 855],\n",
       "        [  7, 876],\n",
       "        [  8,  15],\n",
       "        [  8, 199],\n",
       "        [  8, 202],\n",
       "        [  8, 204],\n",
       "        [  9, 162],\n",
       "        [ 10,  60],\n",
       "        [ 10, 127],\n",
       "        [ 11, 145],\n",
       "        [ 11, 399],\n",
       "        [ 12,  30],\n",
       "        [ 12,  39],\n",
       "        [ 12, 164],\n",
       "        [ 12, 165],\n",
       "        [ 12, 166],\n",
       "        [ 12, 168],\n",
       "        [ 12, 173],\n",
       "        [ 12, 295],\n",
       "        [ 12, 329],\n",
       "        [ 12, 464],\n",
       "        [ 12, 466],\n",
       "        [ 13, 106],\n",
       "        [ 13, 166],\n",
       "        [ 13, 258],\n",
       "        [ 13, 271],\n",
       "        [ 13, 296],\n",
       "        [ 13, 443],\n",
       "        [ 13, 450],\n",
       "        [ 13, 452],\n",
       "        [ 13, 454],\n",
       "        [ 13, 508],\n",
       "        [ 13, 509],\n",
       "        [ 13, 510],\n",
       "        [ 13, 540],\n",
       "        [ 13, 589],\n",
       "        [ 13, 740],\n",
       "        [ 13, 760],\n",
       "        [ 13, 761],\n",
       "        [ 14,  34],\n",
       "        [ 15,  21],\n",
       "        [ 15,  23],\n",
       "        [ 15, 109],\n",
       "        [ 15, 115],\n",
       "        [ 15, 118]], device='cuda:0')"
      ]
     },
     "execution_count": 36,
     "metadata": {},
     "output_type": "execute_result"
    }
   ],
   "source": [
    "pos_indices"
   ]
  },
  {
   "cell_type": "code",
   "execution_count": 37,
   "id": "9bf9e63a",
   "metadata": {},
   "outputs": [
    {
     "data": {
      "text/plain": [
       "tensor([[  0,  40],\n",
       "        [  0,  66],\n",
       "        [  0, 113],\n",
       "        [  0, 160],\n",
       "        [  0, 267],\n",
       "        [  0, 280],\n",
       "        [  0, 365],\n",
       "        [  0, 443],\n",
       "        [  0, 462],\n",
       "        [  0, 502],\n",
       "        [  0, 514],\n",
       "        [  0, 517],\n",
       "        [  0, 593],\n",
       "        [  0, 603],\n",
       "        [  0, 630],\n",
       "        [  0, 697],\n",
       "        [  1,  83],\n",
       "        [  1,  98],\n",
       "        [  1, 113],\n",
       "        [  1, 118],\n",
       "        [  1, 184],\n",
       "        [  1, 249],\n",
       "        [  1, 324],\n",
       "        [  1, 327],\n",
       "        [  1, 345],\n",
       "        [  1, 347],\n",
       "        [  1, 352],\n",
       "        [  1, 356],\n",
       "        [  1, 357],\n",
       "        [  1, 359],\n",
       "        [  1, 361],\n",
       "        [  1, 371],\n",
       "        [  1, 397],\n",
       "        [  1, 401],\n",
       "        [  1, 408],\n",
       "        [  1, 411],\n",
       "        [  1, 423],\n",
       "        [  1, 453],\n",
       "        [  1, 537],\n",
       "        [  1, 566],\n",
       "        [  1, 569],\n",
       "        [  1, 572],\n",
       "        [  1, 590],\n",
       "        [  1, 593],\n",
       "        [  2, 129],\n",
       "        [  2, 132],\n",
       "        [  2, 158],\n",
       "        [  2, 178],\n",
       "        [  2, 214],\n",
       "        [  2, 224],\n",
       "        [  2, 521],\n",
       "        [  2, 524],\n",
       "        [  2, 638],\n",
       "        [  2, 670],\n",
       "        [  2, 785],\n",
       "        [  3,  85],\n",
       "        [  4,  80],\n",
       "        [  4,  95],\n",
       "        [  4, 205],\n",
       "        [  4, 244],\n",
       "        [  4, 302],\n",
       "        [  4, 359],\n",
       "        [  4, 442],\n",
       "        [  4, 466],\n",
       "        [  4, 469],\n",
       "        [  4, 470],\n",
       "        [  4, 597],\n",
       "        [  4, 636],\n",
       "        [  4, 661],\n",
       "        [  5, 180],\n",
       "        [  5, 190],\n",
       "        [  5, 235],\n",
       "        [  5, 259],\n",
       "        [  5, 262],\n",
       "        [  5, 301],\n",
       "        [  5, 309],\n",
       "        [  6,  30],\n",
       "        [  6,  44],\n",
       "        [  6,  48],\n",
       "        [  6,  52],\n",
       "        [  6, 110],\n",
       "        [  6, 172],\n",
       "        [  6, 191],\n",
       "        [  6, 209],\n",
       "        [  6, 280],\n",
       "        [  6, 283],\n",
       "        [  6, 288],\n",
       "        [  6, 303],\n",
       "        [  6, 318],\n",
       "        [  6, 368],\n",
       "        [  6, 467],\n",
       "        [  6, 481],\n",
       "        [  6, 482],\n",
       "        [  6, 489],\n",
       "        [  6, 512],\n",
       "        [  7,  80],\n",
       "        [  7,  95],\n",
       "        [  7, 128],\n",
       "        [  7, 162],\n",
       "        [  7, 183],\n",
       "        [  7, 198],\n",
       "        [  7, 225],\n",
       "        [  7, 241],\n",
       "        [  7, 273],\n",
       "        [  7, 280],\n",
       "        [  7, 301],\n",
       "        [  7, 326],\n",
       "        [  7, 327],\n",
       "        [  7, 419],\n",
       "        [  7, 457],\n",
       "        [  7, 477],\n",
       "        [  7, 485],\n",
       "        [  7, 489],\n",
       "        [  7, 520],\n",
       "        [  7, 574],\n",
       "        [  7, 587],\n",
       "        [  7, 596],\n",
       "        [  7, 724],\n",
       "        [  7, 790],\n",
       "        [  8,   3],\n",
       "        [  8,  19],\n",
       "        [  8,  24],\n",
       "        [  8,  45],\n",
       "        [  8,  71],\n",
       "        [  8,  73],\n",
       "        [  8,  80],\n",
       "        [  8,  87],\n",
       "        [  8, 108],\n",
       "        [  8, 167],\n",
       "        [  8, 482],\n",
       "        [  9,  38],\n",
       "        [  9, 115],\n",
       "        [  9, 117],\n",
       "        [  9, 163],\n",
       "        [  9, 179],\n",
       "        [  9, 230],\n",
       "        [  9, 253],\n",
       "        [  9, 272],\n",
       "        [  9, 277],\n",
       "        [  9, 302],\n",
       "        [  9, 310],\n",
       "        [  9, 317],\n",
       "        [  9, 325],\n",
       "        [  9, 333],\n",
       "        [  9, 356],\n",
       "        [  9, 380],\n",
       "        [  9, 410],\n",
       "        [ 10,  54],\n",
       "        [ 10,  90],\n",
       "        [ 10, 102],\n",
       "        [ 10, 120],\n",
       "        [ 10, 135],\n",
       "        [ 11,   6],\n",
       "        [ 11, 122],\n",
       "        [ 11, 124],\n",
       "        [ 11, 157],\n",
       "        [ 11, 173],\n",
       "        [ 11, 175],\n",
       "        [ 11, 257],\n",
       "        [ 11, 290],\n",
       "        [ 11, 300],\n",
       "        [ 11, 316],\n",
       "        [ 11, 373],\n",
       "        [ 11, 429],\n",
       "        [ 11, 454],\n",
       "        [ 11, 470],\n",
       "        [ 12, 107],\n",
       "        [ 12, 122],\n",
       "        [ 12, 160],\n",
       "        [ 12, 224],\n",
       "        [ 12, 244],\n",
       "        [ 12, 253],\n",
       "        [ 12, 269],\n",
       "        [ 12, 292],\n",
       "        [ 12, 300],\n",
       "        [ 12, 326],\n",
       "        [ 12, 383],\n",
       "        [ 12, 393],\n",
       "        [ 12, 404],\n",
       "        [ 12, 438],\n",
       "        [ 12, 451],\n",
       "        [ 13,  70],\n",
       "        [ 13,  77],\n",
       "        [ 13, 514],\n",
       "        [ 13, 632],\n",
       "        [ 13, 671],\n",
       "        [ 13, 710],\n",
       "        [ 13, 735],\n",
       "        [ 13, 779],\n",
       "        [ 13, 791],\n",
       "        [ 15,  37],\n",
       "        [ 15,  68],\n",
       "        [ 15,  72],\n",
       "        [ 15, 144],\n",
       "        [ 15, 150],\n",
       "        [ 15, 176],\n",
       "        [ 15, 178],\n",
       "        [ 15, 183]], device='cuda:0')"
      ]
     },
     "execution_count": 37,
     "metadata": {},
     "output_type": "execute_result"
    }
   ],
   "source": [
    "neg_indices"
   ]
  },
  {
   "cell_type": "code",
   "execution_count": 31,
   "id": "7d9548ec",
   "metadata": {},
   "outputs": [
    {
     "data": {
      "text/plain": [
       "<Axes: >"
      ]
     },
     "execution_count": 31,
     "metadata": {},
     "output_type": "execute_result"
    },
    {
     "data": {
      "image/png": "[encoded data removed]",
      "text/plain": [
       "<Figure size 640x480 with 2 Axes>"
      ]
     },
     "metadata": {},
     "output_type": "display_data"
    }
   ],
   "source": [
    "mask =torch.argwhere(test_batch['labels'] != -1)[:, 1] + 1\n",
    "masked_weights = weights[mask]\n",
    "sns.heatmap(masked_weights.cpu().numpy())"
   ]
  },
  {
   "cell_type": "code",
   "execution_count": 30,
   "id": "7047cb49",
   "metadata": {},
   "outputs": [
    {
     "data": {
      "text/plain": [
       "(tensor(0.7867, device='cuda:0'),\n",
       " tensor([[[15.3472],\n",
       "          [15.3528],\n",
       "          [15.3253],\n",
       "          ...,\n",
       "          [13.1115],\n",
       "          [13.1115],\n",
       "          [13.1115]],\n",
       " \n",
       "         [[15.2838],\n",
       "          [15.3108],\n",
       "          [15.2833],\n",
       "          ...,\n",
       "          [13.1115],\n",
       "          [13.1115],\n",
       "          [13.1115]],\n",
       " \n",
       "         [[15.3068],\n",
       "          [15.2396],\n",
       "          [15.2088],\n",
       "          ...,\n",
       "          [13.1115],\n",
       "          [13.1115],\n",
       "          [13.1115]],\n",
       " \n",
       "         ...,\n",
       " \n",
       "         [[15.1881],\n",
       "          [15.3154],\n",
       "          [14.8486],\n",
       "          ...,\n",
       "          [13.1115],\n",
       "          [13.1115],\n",
       "          [13.1115]],\n",
       " \n",
       "         [[15.2608],\n",
       "          [15.3373],\n",
       "          [15.2942],\n",
       "          ...,\n",
       "          [13.1115],\n",
       "          [13.1115],\n",
       "          [13.1115]],\n",
       " \n",
       "         [[ 0.0000],\n",
       "          [10.8531],\n",
       "          [15.2223],\n",
       "          ...,\n",
       "          [13.1115],\n",
       "          [13.1115],\n",
       "          [13.1115]]], device='cuda:0'))"
      ]
     },
     "execution_count": 30,
     "metadata": {},
     "output_type": "execute_result"
    }
   ],
   "source": [
    "out"
   ]
  },
  {
   "cell_type": "code",
   "execution_count": 31,
   "id": "9a86be30",
   "metadata": {},
   "outputs": [
    {
     "data": {
      "text/plain": [
       "torch.Size([16, 894, 1])"
      ]
     },
     "execution_count": 31,
     "metadata": {},
     "output_type": "execute_result"
    }
   ],
   "source": [
    "out[1].shape"
   ]
  },
  {
   "cell_type": "code",
   "execution_count": 28,
   "id": "1b248c40",
   "metadata": {},
   "outputs": [
    {
     "data": {
      "text/plain": [
       "torch.Size([16, 894])"
      ]
     },
     "execution_count": 28,
     "metadata": {},
     "output_type": "execute_result"
    }
   ],
   "source": [
    "test_batch['input_ids'].shape"
   ]
  },
  {
   "cell_type": "code",
   "execution_count": 22,
   "id": "68c9b6dd",
   "metadata": {},
   "outputs": [],
   "source": [
    "relevant_labels = test_batch['labels'][test_batch['labels'] != -1]\n",
    "preds = (torch.sigmoid(out[1][test_batch['labels']!= -1]) > 0.5).squeeze()"
   ]
  },
  {
   "cell_type": "code",
   "execution_count": 24,
   "id": "3884be5a",
   "metadata": {},
   "outputs": [
    {
     "data": {
      "text/plain": [
       "tensor(0.9141, device='cuda:0')"
      ]
     },
     "execution_count": 24,
     "metadata": {},
     "output_type": "execute_result"
    }
   ],
   "source": [
    "acc = (relevant_labels == preds).sum() / relevant_labels.shape[0]\n",
    "acc"
   ]
  },
  {
   "cell_type": "code",
   "execution_count": 25,
   "id": "929bcffb",
   "metadata": {},
   "outputs": [
    {
     "data": {
      "text/plain": [
       "tensor([0.5000, 1.0000, 0.5000, 1.0000, 0.5000, 1.0000, 0.5000, 0.5000, 1.0000,\n",
       "        1.0000, 1.0000, 0.5000, 1.0000, 1.0000, 0.5000, 1.0000, 1.0000, 1.0000,\n",
       "        1.0000, 1.0000, 1.0000, 1.0000, 1.0000, 0.5000, 1.0000, 1.0000, 1.0000,\n",
       "        1.0000, 0.5000, 1.0000, 1.0000, 1.0000, 1.0000, 1.0000, 1.0000, 1.0000,\n",
       "        1.0000, 1.0000, 1.0000, 1.0000, 1.0000, 1.0000, 1.0000, 1.0000, 1.0000,\n",
       "        1.0000, 0.5000, 1.0000, 1.0000, 1.0000, 1.0000, 1.0000, 1.0000, 0.5000,\n",
       "        1.0000, 1.0000, 1.0000, 0.9999, 0.9878, 1.0000, 1.0000, 0.5000, 1.0000,\n",
       "        1.0000, 1.0000, 1.0000, 1.0000, 0.5000, 1.0000, 1.0000, 1.0000, 1.0000,\n",
       "        1.0000, 1.0000, 1.0000, 1.0000, 1.0000, 1.0000, 1.0000, 1.0000, 1.0000,\n",
       "        1.0000, 1.0000, 0.9999, 1.0000, 1.0000, 0.5000, 0.5000, 1.0000, 0.5000,\n",
       "        0.5000, 1.0000, 0.5000, 1.0000, 1.0000, 1.0000, 0.5000, 1.0000, 1.0000,\n",
       "        1.0000, 0.5000, 0.5000, 1.0000, 0.5000, 1.0000, 1.0000, 1.0000, 1.0000,\n",
       "        1.0000, 0.5000, 1.0000, 1.0000, 1.0000, 1.0000, 1.0000, 1.0000, 1.0000,\n",
       "        1.0000, 1.0000, 1.0000, 1.0000, 1.0000, 0.5000, 1.0000, 1.0000, 0.5000,\n",
       "        0.5000, 0.5000], device='cuda:0')"
      ]
     },
     "execution_count": 25,
     "metadata": {},
     "output_type": "execute_result"
    }
   ],
   "source": [
    "ones_mask = test_batch['labels'] == 1\n",
    "ones_preds = torch.sigmoid(out[1][ones_mask]).squeeze()\n",
    "ones_preds"
   ]
  },
  {
   "cell_type": "code",
   "execution_count": 26,
   "id": "57ab7af0",
   "metadata": {},
   "outputs": [
    {
     "data": {
      "text/plain": [
       "tensor([0.5000, 0.5000, 0.5000, 0.5000, 0.5000, 0.5000, 0.5000, 0.5000, 0.5000,\n",
       "        0.5000, 0.5000, 0.5000, 0.5000, 0.5000, 0.5000, 0.5000, 0.5000, 0.5000,\n",
       "        0.5000, 0.5000, 0.5000, 0.5000, 0.5000, 0.5000, 0.5000, 0.5000, 0.5000,\n",
       "        0.5000, 0.5000, 0.5000, 0.5000, 0.5000, 0.5000, 0.5000, 0.5000, 0.5000,\n",
       "        0.5000, 0.5000, 0.5000, 0.5000, 0.5000, 0.5000, 0.5000, 0.5000, 0.5000,\n",
       "        0.5000, 0.5000, 0.5000, 0.5000, 0.5000, 0.5000, 0.5000, 0.5000, 0.5000,\n",
       "        0.5000, 0.5000, 0.5000, 0.5000, 0.5000, 0.5000, 0.5000, 0.5000, 0.5000,\n",
       "        0.5000, 0.5000, 0.5000, 0.5000, 0.5000, 0.5000, 0.5000, 0.5000, 0.5000,\n",
       "        0.5000, 0.5000, 0.5000, 0.5000, 0.5000, 0.5000, 0.5000, 0.5000, 0.5000,\n",
       "        0.5000, 0.5000, 0.5000, 0.5000, 0.5000, 0.5000, 0.5000, 0.5000, 0.5000,\n",
       "        0.5000, 0.5000, 0.5000, 0.5000, 0.5000, 0.5000, 0.5000, 0.5000, 0.5000,\n",
       "        0.5000, 0.5000, 0.5000, 0.5000, 0.5000, 0.5000, 0.5000, 0.5000, 0.5000,\n",
       "        0.5000, 0.5000, 0.5000, 0.5000, 0.5000, 0.5000, 0.5000, 0.5000, 0.5000,\n",
       "        0.5000, 0.5000, 0.5000, 0.5000, 0.5000, 0.5000, 0.5000, 0.5000, 0.5000,\n",
       "        0.5000, 0.5000, 0.5000, 0.5000, 0.5000, 0.5000, 0.5000, 0.5000, 0.5000,\n",
       "        0.5000, 0.5000, 0.5000, 0.5000, 0.5000, 0.5000, 0.5000, 0.5000, 0.5000,\n",
       "        0.5000, 0.5000, 0.5000, 0.5000, 0.5000, 0.5000, 0.5000, 0.5000, 0.5000,\n",
       "        0.5000, 0.5000, 0.5000, 0.5000, 0.5000, 0.5000, 0.5000, 0.5000, 0.5000,\n",
       "        0.5000, 0.5000, 0.5000, 0.5000, 0.5000, 0.5000, 0.5000, 0.5000, 0.5000,\n",
       "        0.5000, 0.5000, 0.5000, 0.5000, 0.5000, 0.5000, 0.5000, 0.5000, 0.5000,\n",
       "        0.5000, 0.5000, 0.5000, 0.9391, 0.5000, 0.5000, 0.5000, 0.5000, 0.5000,\n",
       "        0.5000, 0.5000, 0.5000, 0.5000, 0.5000, 0.5000, 0.5000, 0.5000, 0.5000],\n",
       "       device='cuda:0')"
      ]
     },
     "execution_count": 26,
     "metadata": {},
     "output_type": "execute_result"
    }
   ],
   "source": [
    "zeros_mask = test_batch['labels'] == 0\n",
    "zeros_preds = torch.sigmoid(out[1][zeros_mask]).squeeze()\n",
    "zeros_preds"
   ]
  },
  {
   "cell_type": "code",
   "execution_count": 27,
   "id": "28624258",
   "metadata": {},
   "outputs": [],
   "source": [
    "test_preds = torch.load( '../model/logs/encoder_Y_5/preds.pt')"
   ]
  },
  {
   "cell_type": "code",
   "execution_count": 28,
   "id": "8814457a",
   "metadata": {},
   "outputs": [
    {
     "data": {
      "text/plain": [
       "tensor([[16.1055, 16.1996, 15.9885,  ..., 15.5607, 15.5607, 15.5607],\n",
       "        [15.1400, 16.1219, 16.1602,  ..., 15.5607, 15.5607, 15.5607],\n",
       "        [ 6.0425, 16.1015, 16.0644,  ..., 15.5607, 15.5607, 15.5607],\n",
       "        ...,\n",
       "        [16.1255, 16.1500, 16.1519,  ..., 15.5607, 15.5607, 15.5607],\n",
       "        [14.9631, 16.1762, 16.1520,  ..., 15.5607, 15.5607, 15.5607],\n",
       "        [ 0.0000, 16.1968, 11.6287,  ..., 15.5607, 15.5607, 15.5607]],\n",
       "       device='cuda:0')"
      ]
     },
     "execution_count": 28,
     "metadata": {},
     "output_type": "execute_result"
    }
   ],
   "source": [
    "test_preds[0]"
   ]
  },
  {
   "cell_type": "code",
   "execution_count": 29,
   "id": "4d145552",
   "metadata": {},
   "outputs": [
    {
     "data": {
      "text/plain": [
       "tensor([[[ 4.5498],\n",
       "         [14.0985],\n",
       "         [15.0955],\n",
       "         ...,\n",
       "         [14.3041],\n",
       "         [14.3041],\n",
       "         [14.3041]],\n",
       "\n",
       "        [[14.0289],\n",
       "         [14.9152],\n",
       "         [15.3660],\n",
       "         ...,\n",
       "         [14.3041],\n",
       "         [14.3041],\n",
       "         [14.3041]],\n",
       "\n",
       "        [[10.0068],\n",
       "         [15.1942],\n",
       "         [13.4600],\n",
       "         ...,\n",
       "         [14.3041],\n",
       "         [14.3041],\n",
       "         [14.3041]],\n",
       "\n",
       "        ...,\n",
       "\n",
       "        [[ 3.9845],\n",
       "         [14.9787],\n",
       "         [13.9824],\n",
       "         ...,\n",
       "         [14.3041],\n",
       "         [14.3041],\n",
       "         [14.3041]],\n",
       "\n",
       "        [[13.9321],\n",
       "         [14.9043],\n",
       "         [14.9813],\n",
       "         ...,\n",
       "         [14.3041],\n",
       "         [14.3041],\n",
       "         [14.3041]],\n",
       "\n",
       "        [[ 0.0000],\n",
       "         [14.0232],\n",
       "         [ 9.4009],\n",
       "         ...,\n",
       "         [14.3041],\n",
       "         [14.3041],\n",
       "         [14.3041]]], device='cuda:0')"
      ]
     },
     "execution_count": 29,
     "metadata": {},
     "output_type": "execute_result"
    }
   ],
   "source": [
    "out[1]"
   ]
  },
  {
   "cell_type": "code",
   "execution_count": null,
   "id": "94fb4771",
   "metadata": {},
   "outputs": [],
   "source": []
  }
 ],
 "metadata": {
  "kernelspec": {
   "display_name": "Python 3 (ipykernel)",
   "language": "python",
   "name": "python3"
  },
  "language_info": {
   "codemirror_mode": {
    "name": "ipython",
    "version": 3
   },
   "file_extension": ".py",
   "mimetype": "text/x-python",
   "name": "python",
   "nbconvert_exporter": "python",
   "pygments_lexer": "ipython3",
   "version": "3.10.12"
  }
 },
 "nbformat": 4,
 "nbformat_minor": 5
}
