{
 "cells": [
  {
   "cell_type": "code",
   "execution_count": 2,
   "metadata": {},
   "outputs": [
    {
     "name": "stdout",
     "output_type": "stream",
     "text": [
      "Using cpu\n"
     ]
    }
   ],
   "source": [
    "# Import dependencies and check whether GPU is available. { display-mode: \"form\" }\n",
    "from transformers import T5EncoderModel, T5Tokenizer\n",
    "import torch.nn.functional as F\n",
    "import torch.nn as nn\n",
    "import torch\n",
    "import h5py\n",
    "import time\n",
    "device = torch.device('cuda:0' if torch.cuda.is_available() else 'cpu')\n",
    "print(\"Using {}\".format(device))"
   ]
  },
  {
   "cell_type": "code",
   "execution_count": 2,
   "metadata": {},
   "outputs": [],
   "source": [
    "def get_T5_model():\n",
    "    model = T5EncoderModel.from_pretrained(\"Rostlab/prot_t5_xl_half_uniref50-enc\")\n",
    "    model = model.to(device) # move model to GPU\n",
    "    model = model.eval() # set model to evaluation model\n",
    "    tokenizer = T5Tokenizer.from_pretrained('Rostlab/prot_t5_xl_half_uniref50-enc', do_lower_case=False)\n",
    "\n",
    "    return model, tokenizer"
   ]
  },
  {
   "cell_type": "code",
   "execution_count": 1,
   "metadata": {},
   "outputs": [],
   "source": [
    "import re\n",
    "\n",
    "def preprocess_sequences(seqs):\n",
    "    # this will replace all rare/ambiguous amino acids by X and introduce white-space between all amino acids\n",
    "    return [\" \".join(list(re.sub(r\"[UZOB]\", \"X\", sequence))) for sequence in seqs]\n"
   ]
  },
  {
   "cell_type": "code",
   "execution_count": 3,
   "metadata": {},
   "outputs": [
    {
     "name": "stderr",
     "output_type": "stream",
     "text": [
      "You are using the default legacy behaviour of the <class 'transformers.models.t5.tokenization_t5.T5Tokenizer'>. This is expected, and simply means that the `legacy` (previous) behavior will be used so nothing changes for you. If you want to use the new behaviour, set `legacy=False`. This should only be set if you understand what it means, and thouroughly read the reason why this was added as explained in https://github.com/huggingface/transformers/pull/24565\n"
     ]
    },
    {
     "name": "stdout",
     "output_type": "stream",
     "text": [
      "BaseModelOutputWithPastAndCrossAttentions(last_hidden_state=tensor([[[-0.0041, -0.1437, -0.0393,  ..., -0.0441, -0.0310, -0.0139],\n",
      "         [-0.0003, -0.0969, -0.0192,  ..., -0.0392, -0.0178,  0.0131]]]), past_key_values=None, hidden_states=None, attentions=None, cross_attentions=None)\n"
     ]
    }
   ],
   "source": [
    "model, tokenizer = get_T5_model()\n",
    "seqs = ['MLRNLLALRQIAQRTISTTSRRHFENKVPEKQKLFQEDNGMPVHLKGGASDALLYRATMA']\n",
    "\n",
    "preprocess_sequences(seqs)\n",
    "batch = list()\n",
    "\n",
    "# add_special_tokens adds extra token at the end of each sequence\n",
    "token_encoding = tokenizer.batch_encode_plus(seqs, add_special_tokens=True, padding=\"longest\")\n",
    "input_ids      = torch.tensor(token_encoding['input_ids']).to(device)\n",
    "attention_mask = torch.tensor(token_encoding['attention_mask']).to(device)\n",
    "\n",
    "with torch.no_grad():\n",
    "    # returns: ( batch-size x max_seq_len_in_minibatch x embedding_dim )\n",
    "    embedding_repr = model(input_ids, attention_mask=attention_mask)\n",
    "\n",
    "print(embedding_repr)"
   ]
  },
  {
   "cell_type": "code",
   "execution_count": null,
   "metadata": {},
   "outputs": [],
   "source": [
    "class ProteinEmbed(nn.Module):\n",
    "    def __init__(self, **kwargs) -> None:\n",
    "        super(ProteinEmbed, self).__init__()\n",
    "        self.encoder, self.tokenizer = get_T5_model()\n",
    "        self.decoder = torch.nn.Transformer(**kwargs)\n",
    "        self.freeze_encoder()\n",
    "\n",
    "    def freeze_encoder(self):\n",
    "        for p in self.encoder.parameters():\n",
    "            p.requires_grad = False\n",
    "\n",
    "    def forward(self, input, hidden):\n",
    "        emb = self.encoder(input)\n",
    "        output, hidden = self.rnn(emb, hidden)\n",
    "        decoded = self.decoder(output)\n",
    "        decoded = decoded.view(-1, self.ntoken)\n",
    "        return F.log_softmax(decoded, dim=1), hidden"
   ]
  },
  {
   "cell_type": "code",
   "execution_count": null,
   "metadata": {},
   "outputs": [],
   "source": [
    "from torch.utils.data import Dataset\n",
    "\n",
    "class ProteinDataset(Dataset):\n",
    "    def __init__(self) -> None:\n",
    "        ... \n",
    "    \n",
    "\n",
    "    def __getitem__(self, index) -> Any:\n",
    "        ...\n",
    "\n",
    "    def __len__(self):\n",
    "        ..."
   ]
  }
 ],
 "metadata": {
  "kernelspec": {
   "display_name": "Python 3",
   "language": "python",
   "name": "python3"
  },
  "language_info": {
   "codemirror_mode": {
    "name": "ipython",
    "version": 3
   },
   "file_extension": ".py",
   "mimetype": "text/x-python",
   "name": "python",
   "nbconvert_exporter": "python",
   "pygments_lexer": "ipython3",
   "version": "3.11.3"
  }
 },
 "nbformat": 4,
 "nbformat_minor": 2
}
