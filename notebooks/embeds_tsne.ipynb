{
 "cells": [
  {
   "cell_type": "code",
   "execution_count": 1,
   "id": "9aec16ea",
   "metadata": {},
   "outputs": [],
   "source": [
    "import torch\n",
    "import numpy\n",
    "import sys\n",
    "\n",
    "sys.path.append('../')\n",
    "sys.path.append('../model')"
   ]
  },
  {
   "cell_type": "code",
   "execution_count": 2,
   "id": "46ec0b1c",
   "metadata": {},
   "outputs": [
    {
     "name": "stderr",
     "output_type": "stream",
     "text": [
      "/storage/praha1/home/nexuso1/.local/lib/python3.10/site-packages/tqdm/auto.py:21: TqdmWarning: IProgress not found. Please update jupyter and ipywidgets. See https://ipywidgets.readthedocs.io/en/stable/user_install.html\n",
      "  from .autonotebook import tqdm as notebook_tqdm\n"
     ]
    },
    {
     "name": "stdout",
     "output_type": "stream",
     "text": [
      "cuda:0\n"
     ]
    }
   ],
   "source": [
    "from classifiers import EncoderClassifier, EncoderClassifierConfig\n",
    "from training import run_training, LightningWrapper\n",
    "from encoder import create_model, add_arguments\n",
    "from esm_train import get_esm, device, parser\n",
    "from data_loading import prepare_datasets\n",
    "from torchmetrics import F1Score, MatthewsCorrCoef, Precision, Recall, AUROC, \\\n",
    "MeanMetric, AveragePrecision, PrecisionRecallCurve, MetricCollection\n",
    "from torch.utils.data import DataLoader\n",
    "from functools import partial\n",
    "from data_loading import prep_batch"
   ]
  },
  {
   "cell_type": "code",
   "execution_count": 3,
   "id": "250a2082",
   "metadata": {},
   "outputs": [
    {
     "name": "stderr",
     "output_type": "stream",
     "text": [
      "Some weights of EsmModel were not initialized from the model checkpoint at facebook/esm2_t12_35M_UR50D and are newly initialized: ['esm.pooler.dense.bias', 'esm.pooler.dense.weight']\n",
      "You should probably TRAIN this model on a down-stream task to be able to use it for predictions and inference.\n"
     ]
    },
    {
     "name": "stdout",
     "output_type": "stream",
     "text": [
      "EncoderClassifier(\n",
      "  (base): EsmModel(\n",
      "    (embeddings): EsmEmbeddings(\n",
      "      (word_embeddings): Embedding(33, 480, padding_idx=1)\n",
      "      (dropout): Dropout(p=0.0, inplace=False)\n",
      "      (position_embeddings): Embedding(1026, 480, padding_idx=1)\n",
      "    )\n",
      "    (encoder): EsmEncoder(\n",
      "      (layer): ModuleList(\n",
      "        (0-11): 12 x EsmLayer(\n",
      "          (attention): EsmAttention(\n",
      "            (self): EsmSelfAttention(\n",
      "              (query): Linear(in_features=480, out_features=480, bias=True)\n",
      "              (key): Linear(in_features=480, out_features=480, bias=True)\n",
      "              (value): Linear(in_features=480, out_features=480, bias=True)\n",
      "              (dropout): Dropout(p=0.0, inplace=False)\n",
      "              (rotary_embeddings): RotaryEmbedding()\n",
      "            )\n",
      "            (output): EsmSelfOutput(\n",
      "              (dense): Linear(in_features=480, out_features=480, bias=True)\n",
      "              (dropout): Dropout(p=0.0, inplace=False)\n",
      "            )\n",
      "            (LayerNorm): LayerNorm((480,), eps=1e-05, elementwise_affine=True)\n",
      "          )\n",
      "          (intermediate): EsmIntermediate(\n",
      "            (dense): Linear(in_features=480, out_features=1920, bias=True)\n",
      "          )\n",
      "          (output): EsmOutput(\n",
      "            (dense): Linear(in_features=1920, out_features=480, bias=True)\n",
      "            (dropout): Dropout(p=0.0, inplace=False)\n",
      "          )\n",
      "          (LayerNorm): LayerNorm((480,), eps=1e-05, elementwise_affine=True)\n",
      "        )\n",
      "      )\n",
      "      (emb_layer_norm_after): LayerNorm((480,), eps=1e-05, elementwise_affine=True)\n",
      "    )\n",
      "    (pooler): EsmPooler(\n",
      "      (dense): Linear(in_features=480, out_features=480, bias=True)\n",
      "      (activation): Tanh()\n",
      "    )\n",
      "    (contact_head): EsmContactPredictionHead(\n",
      "      (regression): Linear(in_features=240, out_features=1, bias=True)\n",
      "      (activation): Sigmoid()\n",
      "    )\n",
      "  )\n",
      "  (loss): BCEWithLogitsLoss()\n",
      "  (pos_embed): SinPositionalEncoding()\n",
      "  (encoder): TransformerEncoder(\n",
      "    (layers): ModuleList(\n",
      "      (0): TransformerEncoderLayer(\n",
      "        (self_attn): MultiheadAttention(\n",
      "          (out_proj): NonDynamicallyQuantizableLinear(in_features=256, out_features=256, bias=True)\n",
      "        )\n",
      "        (linear1): Linear(in_features=256, out_features=2048, bias=True)\n",
      "        (dropout): Dropout(p=0.1, inplace=False)\n",
      "        (linear2): Linear(in_features=2048, out_features=256, bias=True)\n",
      "        (norm1): LayerNorm((256,), eps=1e-05, elementwise_affine=True)\n",
      "        (norm2): LayerNorm((256,), eps=1e-05, elementwise_affine=True)\n",
      "        (dropout1): Dropout(p=0.1, inplace=False)\n",
      "        (dropout2): Dropout(p=0.1, inplace=False)\n",
      "      )\n",
      "    )\n",
      "    (norm): LayerNorm((256,), eps=1e-05, elementwise_affine=True)\n",
      "  )\n",
      "  (sr_cnn): Conv1dModel(\n",
      "    (activ): ReLU()\n",
      "    (downs): ModuleList(\n",
      "      (0): Down1D(\n",
      "        (down): ConvNormActiv1D(\n",
      "          (conv): Conv1d(480, 256, kernel_size=(3,), stride=(2,), padding=(1,))\n",
      "          (norm): LayerNorm((256,), eps=1e-05, elementwise_affine=True)\n",
      "          (activ): ReLU()\n",
      "        )\n",
      "        (layers): ModuleList()\n",
      "        (dropout): Dropout1d(p=0, inplace=False)\n",
      "      )\n",
      "      (1-2): 2 x Down1D(\n",
      "        (down): ConvNormActiv1D(\n",
      "          (conv): Conv1d(256, 256, kernel_size=(3,), stride=(2,), padding=(1,))\n",
      "          (norm): LayerNorm((256,), eps=1e-05, elementwise_affine=True)\n",
      "          (activ): ReLU()\n",
      "        )\n",
      "        (layers): ModuleList()\n",
      "        (dropout): Dropout1d(p=0, inplace=False)\n",
      "      )\n",
      "    )\n",
      "  )\n",
      "  (seq_rep): Conv1dModel(\n",
      "    (activ): ReLU()\n",
      "    (downs): ModuleList(\n",
      "      (0): Down1D(\n",
      "        (down): ConvNormActiv1D(\n",
      "          (conv): Conv1d(480, 256, kernel_size=(3,), stride=(2,), padding=(1,))\n",
      "          (norm): LayerNorm((256,), eps=1e-05, elementwise_affine=True)\n",
      "          (activ): ReLU()\n",
      "        )\n",
      "        (layers): ModuleList()\n",
      "        (dropout): Dropout1d(p=0, inplace=False)\n",
      "      )\n",
      "      (1-2): 2 x Down1D(\n",
      "        (down): ConvNormActiv1D(\n",
      "          (conv): Conv1d(256, 256, kernel_size=(3,), stride=(2,), padding=(1,))\n",
      "          (norm): LayerNorm((256,), eps=1e-05, elementwise_affine=True)\n",
      "          (activ): ReLU()\n",
      "        )\n",
      "        (layers): ModuleList()\n",
      "        (dropout): Dropout1d(p=0, inplace=False)\n",
      "      )\n",
      "    )\n",
      "  )\n",
      "  (res_cnn): Conv1dModel(\n",
      "    (downs): ModuleList(\n",
      "      (0): Down1D(\n",
      "        (down): ConvNormActiv1D(\n",
      "          (conv): Conv1d(480, 256, kernel_size=(31,), stride=(1,), padding=(15,))\n",
      "          (norm): LayerNorm((256,), eps=1e-05, elementwise_affine=True)\n",
      "        )\n",
      "        (layers): ModuleList()\n",
      "        (dropout): Dropout1d(p=0, inplace=False)\n",
      "      )\n",
      "    )\n",
      "  )\n",
      "  (classifier_mlp): ResidualMLP(\n",
      "    (layers): ModuleList(\n",
      "      (0): ResidualDense(\n",
      "        (dense): Linear(in_features=256, out_features=128, bias=True)\n",
      "        (activation): ReLU()\n",
      "      )\n",
      "      (1-2): 2 x ResidualDense(\n",
      "        (dense): Linear(in_features=128, out_features=128, bias=True)\n",
      "        (activation): ReLU()\n",
      "      )\n",
      "    )\n",
      "    (activation): ReLU()\n",
      "    (norms): ModuleList(\n",
      "      (0): LayerNorm((256,), eps=1e-05, elementwise_affine=True)\n",
      "      (1-2): 2 x LayerNorm((128,), eps=1e-05, elementwise_affine=True)\n",
      "    )\n",
      "    (dropout): Dropout(p=0.5, inplace=False)\n",
      "  )\n",
      "  (classifier): Sequential(\n",
      "    (0): ResidualMLP(\n",
      "      (layers): ModuleList(\n",
      "        (0): ResidualDense(\n",
      "          (dense): Linear(in_features=256, out_features=128, bias=True)\n",
      "          (activation): ReLU()\n",
      "        )\n",
      "        (1-2): 2 x ResidualDense(\n",
      "          (dense): Linear(in_features=128, out_features=128, bias=True)\n",
      "          (activation): ReLU()\n",
      "        )\n",
      "      )\n",
      "      (activation): ReLU()\n",
      "      (norms): ModuleList(\n",
      "        (0): LayerNorm((256,), eps=1e-05, elementwise_affine=True)\n",
      "        (1-2): 2 x LayerNorm((128,), eps=1e-05, elementwise_affine=True)\n",
      "      )\n",
      "      (dropout): Dropout(p=0.5, inplace=False)\n",
      "    )\n",
      "    (1): Linear(in_features=128, out_features=1, bias=True)\n",
      "  )\n",
      ")\n"
     ]
    }
   ],
   "source": [
    "chkpt_path = '../model/new_logs/encoder_S_60_focal/fold_0/chkpt.ckpt'\n",
    "checkpoint = torch.load(chkpt_path)\n",
    "args = parser.parse_args(args=[])\n",
    "\n",
    "for k, v in checkpoint['hyper_parameters'].items():\n",
    "    args.__setattr__(k, v)\n",
    "\n",
    "model, tokenizer = create_model(args)\n"
   ]
  },
  {
   "cell_type": "code",
   "execution_count": 4,
   "id": "cac28662",
   "metadata": {},
   "outputs": [],
   "source": [
    "full_dataset = prepare_datasets(args, ignore_label=args.ignore_label)\n",
    "\n",
    "step_metrics = MetricCollection({\n",
    "    'f1' : F1Score(task='binary', ignore_index=args.ignore_label),\n",
    "    'precision' : Precision(task='binary',ignore_index=args.ignore_label),\n",
    "    'recall' : Recall(task='binary', ignore_index=args.ignore_label),\n",
    "})\n",
    "\n",
    "epoch_metrics = MetricCollection({\n",
    "    'f1' : F1Score(task='binary', ignore_index=args.ignore_label),\n",
    "    'precision' : Precision(task='binary',ignore_index=args.ignore_label),\n",
    "    'recall' : Recall(task='binary', ignore_index=args.ignore_label),\n",
    "    'auroc' : AUROC('binary', ignore_index=args.ignore_label),\n",
    "    'auprc' : AveragePrecision('binary', ignore_index=args.ignore_label),\n",
    "    'mcc' : MatthewsCorrCoef('binary', ignore_index=args.ignore_label)\n",
    "})"
   ]
  },
  {
   "cell_type": "code",
   "execution_count": 5,
   "id": "9fda3126",
   "metadata": {},
   "outputs": [
    {
     "name": "stdout",
     "output_type": "stream",
     "text": [
      "Train size: 7180\n",
      "Dev size: 1796\n",
      "Test size: 2244\n"
     ]
    }
   ],
   "source": [
    "train_ds, dev_ds, test_ds = full_dataset.get_fold(0)\n",
    "train = DataLoader(train_ds, args.batch_size, shuffle=True,\n",
    "                    collate_fn=partial(prep_batch, tokenizer=tokenizer, ignore_label=args.ignore_label),\n",
    "                    persistent_workers=True if args.num_workers > 0 else False, \n",
    "                    num_workers=args.num_workers )\n",
    "dev = DataLoader(dev_ds, args.batch_size, shuffle=False,\n",
    "                    collate_fn=partial(prep_batch, tokenizer=tokenizer, ignore_label=args.ignore_label),\n",
    "                    persistent_workers=True if args.num_workers > 0 else False,\n",
    "                    num_workers=args.num_workers)\n",
    "\n",
    "test = DataLoader(test_ds, args.batch_size, shuffle=False,\n",
    "                    collate_fn=partial(prep_batch, tokenizer=tokenizer, ignore_label=args.ignore_label),\n",
    "                    persistent_workers=True if args.num_workers > 0 else False,\n",
    "                    num_workers=args.num_workers)"
   ]
  },
  {
   "cell_type": "code",
   "execution_count": 6,
   "id": "16aa5328",
   "metadata": {},
   "outputs": [],
   "source": [
    "    model = LightningWrapper(args, model, step_metrics=step_metrics, epoch_metrics=epoch_metrics, ds_size=len(train), logdir='.')\n",
    "    model.load_state_dict(checkpoint['state_dict'])\n",
    "    model.to(device)\n",
    "    model = model.classifier"
   ]
  },
  {
   "cell_type": "code",
   "execution_count": 7,
   "id": "3b1c17ed",
   "metadata": {},
   "outputs": [],
   "source": [
    "class OutputGatherModule(torch.nn.Module):\n",
    "    def __init__(self, module):\n",
    "        super().__init__()\n",
    "        self.module = module\n",
    "        self.last_batch = None\n",
    "        \n",
    "    def forward(self, *args, **kwargs):\n",
    "        out = self.module(*args, **kwargs)\n",
    "        self.last_batch = out\n",
    "        return out\n",
    "    "
   ]
  },
  {
   "cell_type": "code",
   "execution_count": 8,
   "id": "6dc02d18",
   "metadata": {},
   "outputs": [],
   "source": [
    "model.encoder = OutputGatherModule(model.encoder)"
   ]
  },
  {
   "cell_type": "code",
   "execution_count": 9,
   "id": "311de720",
   "metadata": {},
   "outputs": [
    {
     "name": "stderr",
     "output_type": "stream",
     "text": [
      "/usr/local/lib/python3.10/dist-packages/torch/nn/modules/transformer.py:408: UserWarning: The PyTorch API of nested tensors is in prototype stage and will change in the near future. (Triggered internally at /opt/pytorch/pytorch/aten/src/ATen/NestedTensorImpl.cpp:178.)\n",
      "  output = torch._nested_tensor_from_mask(output, src_key_padding_mask.logical_not(), mask_check=False)\n"
     ]
    }
   ],
   "source": [
    "embed_df = {}\n",
    "all_embeds = []\n",
    "with torch.no_grad():\n",
    "    for batch in test:\n",
    "        loss, batch_preds = model.predict(**batch.to(model.device))\n",
    "        batch_labels = batch['labels']\n",
    "        embeds = model.encoder.last_batch\n",
    "        mask = batch_labels != model.ignore_index\n",
    "        ids = test_ds.data.iloc[batch['indices'].cpu().numpy()]['id']\n",
    "\n",
    "        # Save the predictions\n",
    "        for i, id in enumerate(ids):\n",
    "            embed_df[id] = {}\n",
    "            embed_df[id]['prot_embed'] = embeds[i][0].cpu().numpy()\n",
    "            embed_df[id]['embeds'] = embeds[i][1:][mask[i]].cpu().numpy()\n",
    "            all_embeds.extend(embed_df[id]['embeds'].tolist())\n",
    "            embed_df[id]['mask'] = mask[i].cpu().numpy()\n"
   ]
  },
  {
   "cell_type": "code",
   "execution_count": 10,
   "id": "bd2249e4",
   "metadata": {},
   "outputs": [],
   "source": [
    "from sklearn.manifold import TSNE\n",
    "import pandas as pd\n",
    "import numpy as np"
   ]
  },
  {
   "cell_type": "code",
   "execution_count": 11,
   "id": "bbe1dcda",
   "metadata": {},
   "outputs": [],
   "source": [
    "tsne = TSNE(n_jobs=15)"
   ]
  },
  {
   "cell_type": "code",
   "execution_count": 12,
   "id": "ed96f7b7",
   "metadata": {},
   "outputs": [],
   "source": [
    "embed_df = pd.DataFrame.from_dict(embed_df, orient='index')"
   ]
  },
  {
   "cell_type": "code",
   "execution_count": 13,
   "id": "1386a710",
   "metadata": {},
   "outputs": [],
   "source": [
    "all_embeds = np.asarray(all_embeds)"
   ]
  },
  {
   "cell_type": "code",
   "execution_count": null,
   "id": "199a2b69",
   "metadata": {},
   "outputs": [],
   "source": [
    "tsne.fit(all_embeds)"
   ]
  },
  {
   "cell_type": "code",
   "execution_count": null,
   "id": "b71ea7f1",
   "metadata": {},
   "outputs": [],
   "source": []
  }
 ],
 "metadata": {
  "kernelspec": {
   "display_name": "Python 3 (ipykernel)",
   "language": "python",
   "name": "python3"
  },
  "language_info": {
   "codemirror_mode": {
    "name": "ipython",
    "version": 3
   },
   "file_extension": ".py",
   "mimetype": "text/x-python",
   "name": "python",
   "nbconvert_exporter": "python",
   "pygments_lexer": "ipython3",
   "version": "3.10.12"
  }
 },
 "nbformat": 4,
 "nbformat_minor": 5
}
